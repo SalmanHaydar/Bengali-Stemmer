{
 "cells": [
  {
   "cell_type": "code",
   "execution_count": 1,
   "metadata": {},
   "outputs": [],
   "source": [
    "import pandas as pd\n",
    "import numpy as np\n",
    "import pandas as pd\n",
    "from gensim.models import Word2Vec\n",
    "from gensim.test.utils import common_texts, get_tmpfile\n",
    "from gensim.models import KeyedVectors\n",
    "import re\n",
    "from sklearn.metrics.pairwise import cosine_similarity"
   ]
  },
  {
   "cell_type": "code",
   "execution_count": 2,
   "metadata": {},
   "outputs": [],
   "source": [
    "df = pd.read_csv('data/processed_data/messageAll.csv')"
   ]
  },
  {
   "cell_type": "code",
   "execution_count": 3,
   "metadata": {},
   "outputs": [
    {
     "data": {
      "text/plain": [
       "1192749"
      ]
     },
     "execution_count": 3,
     "metadata": {},
     "output_type": "execute_result"
    }
   ],
   "source": [
    "len(df)"
   ]
  },
  {
   "cell_type": "code",
   "execution_count": 9,
   "metadata": {},
   "outputs": [
    {
     "name": "stdout",
     "output_type": "stream",
     "text": [
      "/home/genex/Notebook\r\n"
     ]
    }
   ],
   "source": [
    "!pwd"
   ]
  },
  {
   "cell_type": "code",
   "execution_count": 114,
   "metadata": {},
   "outputs": [],
   "source": [
    "df_list =list(df.message)"
   ]
  },
  {
   "cell_type": "code",
   "execution_count": 115,
   "metadata": {},
   "outputs": [
    {
     "name": "stdout",
     "output_type": "stream",
     "text": [
      "Total Message 912024\n"
     ]
    }
   ],
   "source": [
    "#this part is prepared by *-Rabby-*\n",
    "prepared_data = []\n",
    "removeChar = '০ ১ ২ ৩ ৪ ৫ ৬ ৭ ৮ ৯'.split()\n",
    "for sent in df_list:\n",
    "    s = re.sub('[^\\u0980-\\u09ffa-zA-Z?]+', ' ', str(sent))\n",
    "    for j in removeChar:\n",
    "        s = s.replace(j, ' ')\n",
    "    s = ' '.join(s.split())\n",
    "    if len(s.strip()):\n",
    "        prepared_data.append(s.lower())\n",
    "    \n",
    "print('Total Message', len(prepared_data))"
   ]
  },
  {
   "cell_type": "code",
   "execution_count": 5,
   "metadata": {},
   "outputs": [],
   "source": [
    "prepared_data = []\n",
    "for sent in df_list:\n",
    "    prepared_data.append(str(sent).split())"
   ]
  },
  {
   "cell_type": "code",
   "execution_count": 87,
   "metadata": {},
   "outputs": [],
   "source": [
    "model = Word2Vec(prepared_data,size=1024,window=2,min_count=1,sg=1,workers=4)"
   ]
  },
  {
   "cell_type": "code",
   "execution_count": 4,
   "metadata": {},
   "outputs": [],
   "source": [
    "model = Word2Vec.load('word2vec_S1024_W2_Min1.model')"
   ]
  },
  {
   "cell_type": "code",
   "execution_count": 5,
   "metadata": {},
   "outputs": [
    {
     "data": {
      "text/plain": [
       "array([0.9168761], dtype=float32)"
      ]
     },
     "execution_count": 5,
     "metadata": {},
     "output_type": "execute_result"
    }
   ],
   "source": [
    "model.wv.cosine_similarities(model.wv[\"cumilla\"].reshape(-1),model.wv[\"comilla\"].reshape(1,1024))"
   ]
  },
  {
   "cell_type": "code",
   "execution_count": 8,
   "metadata": {},
   "outputs": [
    {
     "data": {
      "text/plain": [
       "[('asen', 0.977247953414917),\n",
       " ('acen', 0.9691460728645325),\n",
       " ('asan', 0.9396560788154602),\n",
       " ('acho', 0.9198898077011108),\n",
       " ('aso', 0.9160470366477966),\n",
       " ('acan', 0.9055763483047485),\n",
       " ('aco', 0.9044261574745178),\n",
       " ('acn', 0.8933955430984497),\n",
       " ('asos', 0.885931670665741),\n",
       " ('achan', 0.8614093661308289)]"
      ]
     },
     "execution_count": 8,
     "metadata": {},
     "output_type": "execute_result"
    }
   ],
   "source": [
    "wv.most_similar(\"achen\")"
   ]
  },
  {
   "cell_type": "code",
   "execution_count": 156,
   "metadata": {},
   "outputs": [
    {
     "data": {
      "text/plain": [
       "array([ 0.05484036, -0.02507173,  0.06091474, ..., -0.02009379,\n",
       "        0.04558235, -0.06747749], dtype=float32)"
      ]
     },
     "execution_count": 156,
     "metadata": {},
     "output_type": "execute_result"
    }
   ],
   "source": [
    "wv['lol']"
   ]
  },
  {
   "cell_type": "code",
   "execution_count": 11,
   "metadata": {},
   "outputs": [
    {
     "data": {
      "text/plain": [
       "197468"
      ]
     },
     "execution_count": 11,
     "metadata": {},
     "output_type": "execute_result"
    }
   ],
   "source": [
    "len(model.wv.vocab.keys())"
   ]
  },
  {
   "cell_type": "code",
   "execution_count": 31,
   "metadata": {},
   "outputs": [],
   "source": [
    "# model.wv.save(\"wordvectors.kv\")"
   ]
  },
  {
   "cell_type": "code",
   "execution_count": 7,
   "metadata": {},
   "outputs": [],
   "source": [
    "wv = KeyedVectors.load(\"wordvectors.kv\")"
   ]
  },
  {
   "cell_type": "code",
   "execution_count": 50,
   "metadata": {},
   "outputs": [
    {
     "data": {
      "text/plain": [
       "array([ 0.05484036, -0.02507173,  0.06091474, ..., -0.02009379,\n",
       "        0.04558235, -0.06747749], dtype=float32)"
      ]
     },
     "execution_count": 50,
     "metadata": {},
     "output_type": "execute_result"
    }
   ],
   "source": [
    "wv['lol']"
   ]
  },
  {
   "cell_type": "code",
   "execution_count": 71,
   "metadata": {},
   "outputs": [],
   "source": [
    "s = \"baler matha ki ajob\""
   ]
  },
  {
   "cell_type": "code",
   "execution_count": 72,
   "metadata": {},
   "outputs": [
    {
     "name": "stdout",
     "output_type": "stream",
     "text": [
      "baler\n",
      "matha\n",
      "ki\n",
      "ajob\n"
     ]
    }
   ],
   "source": [
    "for token in s.split():\n",
    "    print(token)"
   ]
  },
  {
   "cell_type": "code",
   "execution_count": 73,
   "metadata": {},
   "outputs": [],
   "source": [
    "try:\n",
    "    s = wv['am']\n",
    "except KeyError:\n",
    "    print(\"Not Found\")"
   ]
  },
  {
   "cell_type": "code",
   "execution_count": 103,
   "metadata": {},
   "outputs": [],
   "source": [
    "temp_place = []"
   ]
  },
  {
   "cell_type": "code",
   "execution_count": 104,
   "metadata": {},
   "outputs": [],
   "source": [
    "temp_place.append(np.zeros(1024,dtype=np.float32))"
   ]
  },
  {
   "cell_type": "code",
   "execution_count": 105,
   "metadata": {},
   "outputs": [
    {
     "data": {
      "text/plain": [
       "array([0., 0., 0., ..., 0., 0., 0.], dtype=float32)"
      ]
     },
     "execution_count": 105,
     "metadata": {},
     "output_type": "execute_result"
    }
   ],
   "source": [
    "np.mean(temp_place,axis=0)"
   ]
  },
  {
   "cell_type": "code",
   "execution_count": 88,
   "metadata": {},
   "outputs": [
    {
     "data": {
      "text/plain": [
       "array([ 0.18101002,  0.1143669 , -0.23325801, ..., -0.73187166,\n",
       "        0.3175489 , -0.09467347], dtype=float32)"
      ]
     },
     "execution_count": 88,
     "metadata": {},
     "output_type": "execute_result"
    }
   ],
   "source": [
    "np.add(temp_place[0],temp_place[1])"
   ]
  },
  {
   "cell_type": "code",
   "execution_count": 90,
   "metadata": {},
   "outputs": [
    {
     "data": {
      "text/plain": [
       "array([0., 0., 0., ..., 0., 0., 0.], dtype=float32)"
      ]
     },
     "execution_count": 90,
     "metadata": {},
     "output_type": "execute_result"
    }
   ],
   "source": [
    "np.zeros(1024,dtype=np.float32)"
   ]
  },
  {
   "cell_type": "code",
   "execution_count": 102,
   "metadata": {},
   "outputs": [
    {
     "data": {
      "text/plain": [
       "array([-0.03319152,  0.0924931 ,  0.05806978, ..., -0.23834953,\n",
       "        0.00162208,  0.02755325], dtype=float32)"
      ]
     },
     "execution_count": 102,
     "metadata": {},
     "output_type": "execute_result"
    }
   ],
   "source": [
    "np.mean(temp_place,axis=0)"
   ]
  },
  {
   "cell_type": "code",
   "execution_count": 101,
   "metadata": {},
   "outputs": [
    {
     "data": {
      "text/plain": [
       "array([1., 1.])"
      ]
     },
     "execution_count": 101,
     "metadata": {},
     "output_type": "execute_result"
    }
   ],
   "source": [
    "np.add([1,1],[1,1])/2"
   ]
  },
  {
   "cell_type": "code",
   "execution_count": 131,
   "metadata": {},
   "outputs": [],
   "source": [
    "class FeatureExtractor:\n",
    "\n",
    "    def __init__(self,embedding=None):\n",
    "        self.wv = wv\n",
    "\n",
    "\n",
    "    def get_feature_vector_train(self,sentences):\n",
    "\n",
    "        if self.wv == None:\n",
    "            raise Exception('Please pass the KeyedVectors object.')\n",
    "\n",
    "        else:\n",
    "            sentence_vectors = []\n",
    "            for sent in sentences:\n",
    "\n",
    "                temp_placeholder = []\n",
    "                # temp_placeholder.append(np.zeros(1024,dtype=np.float32))\n",
    "            \n",
    "                for token in sent.split():\n",
    "                    try:\n",
    "                        temp_placeholder.append(self.wv[token])\n",
    "                    except KeyError:\n",
    "                        pass\n",
    "\n",
    "                if len(temp_placeholder)>0:\n",
    "                    sentence_vectors.append(np.mean(temp_placeholder,axis=0))\n",
    "\n",
    "            return np.mean(sentence_vectors,axis=0).reshape(1,-1)\n",
    "\n",
    "\n",
    "    def get_feature_vector_infer(self,sentence):\n",
    "\n",
    "        if self.wv == None:\n",
    "            raise Exception('Please pass flair embedding object.')\n",
    "\n",
    "        else:\n",
    "            temp_placeholder = []\n",
    "            for token in sentence.split():\n",
    "                try:\n",
    "                    temp_placeholder.append(self.wv[token])\n",
    "                except KeyError:\n",
    "                    pass\n",
    "\n",
    "            if len(temp_placeholder)>0:\n",
    "                sent_embd = np.mean(temp_placeholder,axis=0)\n",
    "                return sent_embd.reshape(1,-1)\n",
    "            else:\n",
    "                return np.zeros(1024,dtype=np.float32).reshape(1,-1)"
   ]
  },
  {
   "cell_type": "code",
   "execution_count": 132,
   "metadata": {},
   "outputs": [],
   "source": [
    "extractor = FeatureExtractor(wv)"
   ]
  },
  {
   "cell_type": "code",
   "execution_count": 152,
   "metadata": {},
   "outputs": [],
   "source": [
    "query_vec1 = extractor.get_feature_vector_infer(\"bondho sim er ki offer\") "
   ]
  },
  {
   "cell_type": "code",
   "execution_count": 153,
   "metadata": {},
   "outputs": [],
   "source": [
    "query_vec2 = extractor.get_feature_vector_infer(\"ki vat dibo\")"
   ]
  },
  {
   "cell_type": "code",
   "execution_count": 154,
   "metadata": {},
   "outputs": [
    {
     "data": {
      "text/plain": [
       "array([[0.72017837]], dtype=float32)"
      ]
     },
     "execution_count": 154,
     "metadata": {},
     "output_type": "execute_result"
    }
   ],
   "source": [
    "cosine_similarity(query_vec1,query_vec2)"
   ]
  },
  {
   "cell_type": "code",
   "execution_count": 9,
   "metadata": {},
   "outputs": [
    {
     "name": "stdout",
     "output_type": "stream",
     "text": [
      "/home/genex/Notebook\r\n"
     ]
    }
   ],
   "source": [
    "!pwd"
   ]
  }
 ],
 "metadata": {
  "kernelspec": {
   "display_name": "Python 3",
   "language": "python",
   "name": "python3"
  },
  "language_info": {
   "codemirror_mode": {
    "name": "ipython",
    "version": 3
   },
   "file_extension": ".py",
   "mimetype": "text/x-python",
   "name": "python",
   "nbconvert_exporter": "python",
   "pygments_lexer": "ipython3",
   "version": "3.7.3"
  }
 },
 "nbformat": 4,
 "nbformat_minor": 2
}
